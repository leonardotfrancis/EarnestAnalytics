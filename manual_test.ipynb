{
 "cells": [
  {
   "cell_type": "markdown",
   "metadata": {},
   "source": [
    "# MANUAL TEST TO ADD TO THE API"
   ]
  },
  {
   "cell_type": "markdown",
   "metadata": {},
   "source": [
    "## STEP: 2"
   ]
  },
  {
   "cell_type": "code",
   "execution_count": 18,
   "metadata": {},
   "outputs": [],
   "source": [
    "import pandas as pd"
   ]
  },
  {
   "cell_type": "code",
   "execution_count": 19,
   "metadata": {},
   "outputs": [],
   "source": [
    "df = pd.read_csv(\"src/data/raw/bank_enriched_addresses.csv\")"
   ]
  },
  {
   "cell_type": "code",
   "execution_count": null,
   "metadata": {},
   "outputs": [],
   "source": [
    "df.head()"
   ]
  },
  {
   "cell_type": "code",
   "execution_count": 20,
   "metadata": {},
   "outputs": [
    {
     "name": "stdout",
     "output_type": "stream",
     "text": [
      "1       339\n",
      "2       330\n",
      "5       176\n",
      "6       330\n",
      "9       147\n",
      "       ... \n",
      "4492    234\n",
      "4504    370\n",
      "4514    153\n",
      "4519    211\n",
      "4520    249\n",
      "Name: pdays, Length: 816, dtype: int64\n"
     ]
    }
   ],
   "source": [
    "#RULE 2.a\n",
    "rule2a_col = \"pdays\"\n",
    "if rule2a_col in df.columns:\n",
    "    df = df[df[rule2a_col] != -1]\n",
    "else:\n",
    "    print(f\"No {rule2a_col} column.\")\n",
    "    \n",
    "print(df[rule2a_col])"
   ]
  },
  {
   "cell_type": "code",
   "execution_count": 21,
   "metadata": {},
   "outputs": [
    {
     "name": "stdout",
     "output_type": "stream",
     "text": [
      "     first_name second_name\n",
      "1      domenico       swift\n",
      "2         talon   gulgowski\n",
      "5      richmond     effertz\n",
      "6        lauren     mcclure\n",
      "9       justina      willms\n",
      "...         ...         ...\n",
      "4492       erna   o'connell\n",
      "4504    johnson        beer\n",
      "4514     maudie  wintheiser\n",
      "4519  zachariah       sipes\n",
      "4520      julio      deckow\n",
      "\n",
      "[816 rows x 2 columns]\n"
     ]
    },
    {
     "name": "stderr",
     "output_type": "stream",
     "text": [
      "/tmp/ipykernel_484252/2576133268.py:4: FutureWarning: In a future version of pandas all arguments of StringMethods.split except for the argument 'pat' will be keyword-only.\n",
      "  df[['first_name', 'second_name']] = df[rule2b_col].str.split(' ', 1, expand=True)\n"
     ]
    }
   ],
   "source": [
    "#RULE 2.b\n",
    "rule2b_col = \"name\"\n",
    "if rule2b_col in df.columns:\n",
    "    df[['first_name', 'second_name']] = df[rule2b_col].str.split(' ', 1, expand=True)\n",
    "    \n",
    "    df.drop(rule2b_col, axis=1, inplace=True)\n",
    "else:\n",
    "    print(f\"No {rule2b_col} column.\")\n",
    "    \n",
    "print(df[['first_name', 'second_name']])"
   ]
  },
  {
   "cell_type": "code",
   "execution_count": 22,
   "metadata": {},
   "outputs": [],
   "source": [
    "#RULE 2.c\n",
    "from src.app.utils.utils import Utils\n",
    "\n",
    "rule2c_col = \"age\"\n",
    "if rule2c_col in df.columns:\n",
    "    df[rule2c_col] = [ Utils.age_to_bucket(age) for age in df[rule2c_col] ]\n",
    "else:\n",
    "    print(f\"No {rule2c_col} column.\")\n"
   ]
  },
  {
   "cell_type": "code",
   "execution_count": 55,
   "metadata": {},
   "outputs": [
    {
     "data": {
      "text/plain": [
       "'{\"30-39\":343,\"40-49\":195,\"50-59\":142,\"20-29\":85,\"60-69\":25,\"70-79\":20,\"80-89\":6}'"
      ]
     },
     "execution_count": 55,
     "metadata": {},
     "output_type": "execute_result"
    }
   ],
   "source": [
    "df[rule2c_col].value_counts().to_json()"
   ]
  },
  {
   "cell_type": "code",
   "execution_count": 23,
   "metadata": {},
   "outputs": [
    {
     "name": "stdout",
     "output_type": "stream",
     "text": [
      "      default  housing   loan      y\n",
      "1       False     True   True  False\n",
      "2       False     True  False  False\n",
      "5       False    False  False  False\n",
      "6       False     True  False  False\n",
      "9       False     True   True  False\n",
      "...       ...      ...    ...    ...\n",
      "4492    False     True   True  False\n",
      "4504    False     True   True   True\n",
      "4514    False     True  False  False\n",
      "4519    False    False  False  False\n",
      "4520    False     True   True  False\n",
      "\n",
      "[816 rows x 4 columns]\n"
     ]
    }
   ],
   "source": [
    "#RULE 2.d\n",
    "columns_2d = []\n",
    "        \n",
    "for col in df.columns:\n",
    "    if df[col].iloc[0]==\"yes\" or df[col].iloc[0] == \"no\":\n",
    "        columns_2d.append(col)\n",
    "\n",
    "for col in columns_2d:\n",
    "    df[col] = df[col].replace({'yes': True, 'no': False})\n",
    "\n",
    "print(df[columns_2d])"
   ]
  },
  {
   "cell_type": "code",
   "execution_count": 24,
   "metadata": {},
   "outputs": [
    {
     "name": "stdout",
     "output_type": "stream",
     "text": [
      "1       11/05\n",
      "2       16/04\n",
      "5       23/02\n",
      "6       14/05\n",
      "9       17/04\n",
      "        ...  \n",
      "4492    16/04\n",
      "4504    13/05\n",
      "4514    20/04\n",
      "4519     6/02\n",
      "4520     3/04\n",
      "Name: date, Length: 816, dtype: object\n"
     ]
    }
   ],
   "source": [
    "#RULE 2.e\n",
    "month_map = {'jan': '01', 'feb': '02', 'mar': '03', 'apr': '04', 'may': '05',\n",
    "        'jun': '06', 'jul': '07', 'aug': '08', 'sep': '09', 'oct': '10',\n",
    "        'nov': '11', 'dec': '12'}\n",
    "\n",
    "df['month'] = df['month'].apply(lambda x: month_map.get(x.lower()))\n",
    "df['date'] = df['day'].astype(str) + '/' + df['month']\n",
    "print(df['date'])"
   ]
  },
  {
   "cell_type": "code",
   "execution_count": null,
   "metadata": {},
   "outputs": [],
   "source": [
    "df['date'].value_counts()"
   ]
  },
  {
   "cell_type": "code",
   "execution_count": 25,
   "metadata": {},
   "outputs": [],
   "source": [
    "#RULE 2.f\n",
    "df.rename(columns={'y': 'outcome'}, inplace=True)\n"
   ]
  },
  {
   "cell_type": "markdown",
   "metadata": {},
   "source": [
    "## STEP: 3 "
   ]
  },
  {
   "cell_type": "code",
   "execution_count": null,
   "metadata": {},
   "outputs": [],
   "source": [
    "df[df['address'].str.lower().str.contains(\"lake\")]\n"
   ]
  },
  {
   "cell_type": "code",
   "execution_count": 26,
   "metadata": {},
   "outputs": [
    {
     "data": {
      "text/html": [
       "<div>\n",
       "<style scoped>\n",
       "    .dataframe tbody tr th:only-of-type {\n",
       "        vertical-align: middle;\n",
       "    }\n",
       "\n",
       "    .dataframe tbody tr th {\n",
       "        vertical-align: top;\n",
       "    }\n",
       "\n",
       "    .dataframe thead th {\n",
       "        text-align: right;\n",
       "    }\n",
       "</style>\n",
       "<table border=\"1\" class=\"dataframe\">\n",
       "  <thead>\n",
       "    <tr style=\"text-align: right;\">\n",
       "      <th></th>\n",
       "      <th>address_category_water</th>\n",
       "      <th>address_category_relief</th>\n",
       "      <th>address_category_flat</th>\n",
       "    </tr>\n",
       "  </thead>\n",
       "  <tbody>\n",
       "    <tr>\n",
       "      <th>1</th>\n",
       "      <td>False</td>\n",
       "      <td>False</td>\n",
       "      <td>False</td>\n",
       "    </tr>\n",
       "    <tr>\n",
       "      <th>2</th>\n",
       "      <td>False</td>\n",
       "      <td>False</td>\n",
       "      <td>False</td>\n",
       "    </tr>\n",
       "    <tr>\n",
       "      <th>5</th>\n",
       "      <td>False</td>\n",
       "      <td>False</td>\n",
       "      <td>False</td>\n",
       "    </tr>\n",
       "    <tr>\n",
       "      <th>6</th>\n",
       "      <td>False</td>\n",
       "      <td>False</td>\n",
       "      <td>False</td>\n",
       "    </tr>\n",
       "    <tr>\n",
       "      <th>9</th>\n",
       "      <td>False</td>\n",
       "      <td>False</td>\n",
       "      <td>False</td>\n",
       "    </tr>\n",
       "    <tr>\n",
       "      <th>...</th>\n",
       "      <td>...</td>\n",
       "      <td>...</td>\n",
       "      <td>...</td>\n",
       "    </tr>\n",
       "    <tr>\n",
       "      <th>4492</th>\n",
       "      <td>False</td>\n",
       "      <td>False</td>\n",
       "      <td>False</td>\n",
       "    </tr>\n",
       "    <tr>\n",
       "      <th>4504</th>\n",
       "      <td>False</td>\n",
       "      <td>False</td>\n",
       "      <td>False</td>\n",
       "    </tr>\n",
       "    <tr>\n",
       "      <th>4514</th>\n",
       "      <td>False</td>\n",
       "      <td>False</td>\n",
       "      <td>False</td>\n",
       "    </tr>\n",
       "    <tr>\n",
       "      <th>4519</th>\n",
       "      <td>False</td>\n",
       "      <td>False</td>\n",
       "      <td>False</td>\n",
       "    </tr>\n",
       "    <tr>\n",
       "      <th>4520</th>\n",
       "      <td>True</td>\n",
       "      <td>False</td>\n",
       "      <td>False</td>\n",
       "    </tr>\n",
       "  </tbody>\n",
       "</table>\n",
       "<p>816 rows × 3 columns</p>\n",
       "</div>"
      ],
      "text/plain": [
       "      address_category_water  address_category_relief  address_category_flat\n",
       "1                      False                    False                  False\n",
       "2                      False                    False                  False\n",
       "5                      False                    False                  False\n",
       "6                      False                    False                  False\n",
       "9                      False                    False                  False\n",
       "...                      ...                      ...                    ...\n",
       "4492                   False                    False                  False\n",
       "4504                   False                    False                  False\n",
       "4514                   False                    False                  False\n",
       "4519                   False                    False                  False\n",
       "4520                    True                    False                  False\n",
       "\n",
       "[816 rows x 3 columns]"
      ]
     },
     "execution_count": 26,
     "metadata": {},
     "output_type": "execute_result"
    }
   ],
   "source": [
    "#RULE 3.a/b/c\n",
    "\n",
    "def categorize_address(address:str, category:str):\n",
    "    water_keywords = ['lake', 'creek', 'river', 'spring', 'ocean', 'seashore', 'beach', 'coastal', 'waterfront']\n",
    "    relief_keywords = ['hill', 'mountain', 'canyon', 'valley', 'cliff']\n",
    "    flat_keywords = ['plain', 'plateau', 'field']\n",
    "\n",
    "    address_lower = address.lower()\n",
    "    \n",
    "    if category == \"water\":\n",
    "        return any(keyword in address_lower for keyword in water_keywords)\n",
    "    elif category == 'relief':\n",
    "        return any(keyword in address_lower for keyword in relief_keywords)\n",
    "    elif category == 'flat':\n",
    "        return any(keyword in address_lower for keyword in flat_keywords)\n",
    "    \n",
    "\n",
    "rule3_col = \"address\"\n",
    "if rule3_col in df.columns:\n",
    "    df[\"address_category_water\"]  = [ categorize_address(address, \"water\")  for address in df[rule3_col] ]\n",
    "    df[\"address_category_relief\"] = [ categorize_address(address, \"relief\") for address in df[rule3_col] ]\n",
    "    df[\"address_category_flat\"]   = [ categorize_address(address, \"flat\")   for address in df[rule3_col] ]\n",
    "else:\n",
    "    print(f\"No {rule3_col} column.\")\n",
    "\n",
    "df[[\"address_category_water\",\"address_category_relief\",\"address_category_flat\"]]"
   ]
  },
  {
   "cell_type": "code",
   "execution_count": 27,
   "metadata": {},
   "outputs": [],
   "source": [
    "result = (df[df['address_category_water'].notna()]  # Filter non-empty feature values\n",
    "          .groupby('address_category_water')  # Group by the 'feature' column\n",
    "          .apply(lambda x: x.sort_values('age').count()))  # Apply sort and count within each group"
   ]
  },
  {
   "cell_type": "code",
   "execution_count": 28,
   "metadata": {},
   "outputs": [
    {
     "data": {
      "text/html": [
       "<div>\n",
       "<style scoped>\n",
       "    .dataframe tbody tr th:only-of-type {\n",
       "        vertical-align: middle;\n",
       "    }\n",
       "\n",
       "    .dataframe tbody tr th {\n",
       "        vertical-align: top;\n",
       "    }\n",
       "\n",
       "    .dataframe thead th {\n",
       "        text-align: right;\n",
       "    }\n",
       "</style>\n",
       "<table border=\"1\" class=\"dataframe\">\n",
       "  <thead>\n",
       "    <tr style=\"text-align: right;\">\n",
       "      <th></th>\n",
       "      <th>age</th>\n",
       "      <th>address</th>\n",
       "      <th>job</th>\n",
       "      <th>marital</th>\n",
       "      <th>education</th>\n",
       "      <th>default</th>\n",
       "      <th>balance</th>\n",
       "      <th>housing</th>\n",
       "      <th>loan</th>\n",
       "      <th>contact</th>\n",
       "      <th>...</th>\n",
       "      <th>pdays</th>\n",
       "      <th>previous</th>\n",
       "      <th>poutcome</th>\n",
       "      <th>outcome</th>\n",
       "      <th>first_name</th>\n",
       "      <th>second_name</th>\n",
       "      <th>date</th>\n",
       "      <th>address_category_water</th>\n",
       "      <th>address_category_relief</th>\n",
       "      <th>address_category_flat</th>\n",
       "    </tr>\n",
       "    <tr>\n",
       "      <th>address_category_water</th>\n",
       "      <th></th>\n",
       "      <th></th>\n",
       "      <th></th>\n",
       "      <th></th>\n",
       "      <th></th>\n",
       "      <th></th>\n",
       "      <th></th>\n",
       "      <th></th>\n",
       "      <th></th>\n",
       "      <th></th>\n",
       "      <th></th>\n",
       "      <th></th>\n",
       "      <th></th>\n",
       "      <th></th>\n",
       "      <th></th>\n",
       "      <th></th>\n",
       "      <th></th>\n",
       "      <th></th>\n",
       "      <th></th>\n",
       "      <th></th>\n",
       "      <th></th>\n",
       "    </tr>\n",
       "  </thead>\n",
       "  <tbody>\n",
       "    <tr>\n",
       "      <th>False</th>\n",
       "      <td>767</td>\n",
       "      <td>767</td>\n",
       "      <td>767</td>\n",
       "      <td>767</td>\n",
       "      <td>767</td>\n",
       "      <td>767</td>\n",
       "      <td>767</td>\n",
       "      <td>767</td>\n",
       "      <td>767</td>\n",
       "      <td>767</td>\n",
       "      <td>...</td>\n",
       "      <td>767</td>\n",
       "      <td>767</td>\n",
       "      <td>767</td>\n",
       "      <td>767</td>\n",
       "      <td>767</td>\n",
       "      <td>767</td>\n",
       "      <td>767</td>\n",
       "      <td>767</td>\n",
       "      <td>767</td>\n",
       "      <td>767</td>\n",
       "    </tr>\n",
       "    <tr>\n",
       "      <th>True</th>\n",
       "      <td>49</td>\n",
       "      <td>49</td>\n",
       "      <td>49</td>\n",
       "      <td>49</td>\n",
       "      <td>49</td>\n",
       "      <td>49</td>\n",
       "      <td>49</td>\n",
       "      <td>49</td>\n",
       "      <td>49</td>\n",
       "      <td>49</td>\n",
       "      <td>...</td>\n",
       "      <td>49</td>\n",
       "      <td>49</td>\n",
       "      <td>49</td>\n",
       "      <td>49</td>\n",
       "      <td>49</td>\n",
       "      <td>49</td>\n",
       "      <td>49</td>\n",
       "      <td>49</td>\n",
       "      <td>49</td>\n",
       "      <td>49</td>\n",
       "    </tr>\n",
       "  </tbody>\n",
       "</table>\n",
       "<p>2 rows × 24 columns</p>\n",
       "</div>"
      ],
      "text/plain": [
       "                        age  address  job  marital  education  default  \\\n",
       "address_category_water                                                   \n",
       "False                   767      767  767      767        767      767   \n",
       "True                     49       49   49       49         49       49   \n",
       "\n",
       "                        balance  housing  loan  contact  ...  pdays  previous  \\\n",
       "address_category_water                                   ...                    \n",
       "False                       767      767   767      767  ...    767       767   \n",
       "True                         49       49    49       49  ...     49        49   \n",
       "\n",
       "                        poutcome  outcome  first_name  second_name  date  \\\n",
       "address_category_water                                                     \n",
       "False                        767      767         767          767   767   \n",
       "True                          49       49          49           49    49   \n",
       "\n",
       "                        address_category_water  address_category_relief  \\\n",
       "address_category_water                                                    \n",
       "False                                      767                      767   \n",
       "True                                        49                       49   \n",
       "\n",
       "                        address_category_flat  \n",
       "address_category_water                         \n",
       "False                                     767  \n",
       "True                                       49  \n",
       "\n",
       "[2 rows x 24 columns]"
      ]
     },
     "execution_count": 28,
     "metadata": {},
     "output_type": "execute_result"
    }
   ],
   "source": [
    "result"
   ]
  },
  {
   "cell_type": "code",
   "execution_count": 29,
   "metadata": {},
   "outputs": [
    {
     "name": "stdout",
     "output_type": "stream",
     "text": [
      "age\n",
      "20-29     85\n",
      "30-39    343\n",
      "40-49    195\n",
      "50-59    142\n",
      "60-69     25\n",
      "70-79     20\n",
      "80-89      6\n",
      "Name: address_category_water, dtype: int64\n"
     ]
    }
   ],
   "source": [
    "result2 = (df[df['address_category_water'].notna()]  # Filter non-empty feature values\n",
    "          .groupby('age')  # Group by the 'feature' column\n",
    "          .apply(lambda x: x.sort_values('address_category_water').count()))  # Apply sort and count within each group\n",
    "print(result2[\"address_category_water\"])"
   ]
  },
  {
   "cell_type": "code",
   "execution_count": 49,
   "metadata": {},
   "outputs": [
    {
     "data": {
      "text/plain": [
       "{'20-29': 85,\n",
       " '30-39': 343,\n",
       " '40-49': 195,\n",
       " '50-59': 142,\n",
       " '60-69': 25,\n",
       " '70-79': 20,\n",
       " '80-89': 6}"
      ]
     },
     "execution_count": 49,
     "metadata": {},
     "output_type": "execute_result"
    }
   ],
   "source": [
    "import json\n",
    "json.loads( result2[\"address_category_water\"].to_json())"
   ]
  },
  {
   "cell_type": "code",
   "execution_count": 53,
   "metadata": {},
   "outputs": [
    {
     "name": "stdout",
     "output_type": "stream",
     "text": [
      "age\n",
      "20-29     85\n",
      "30-39    343\n",
      "40-49    195\n",
      "50-59    142\n",
      "60-69     25\n",
      "70-79     20\n",
      "80-89      6\n",
      "Name: address_category_relief, dtype: int64\n"
     ]
    }
   ],
   "source": [
    "result2 = (df  # Filter non-empty feature values\n",
    "          .groupby('age')  # Group by the 'feature' column\n",
    "          )  # Apply sort and count within each group\n",
    "print(result2[\"address_category_relief\"])"
   ]
  },
  {
   "cell_type": "code",
   "execution_count": 52,
   "metadata": {},
   "outputs": [
    {
     "name": "stdout",
     "output_type": "stream",
     "text": [
      "age\n",
      "20-29     85\n",
      "30-39    343\n",
      "40-49    195\n",
      "50-59    142\n",
      "60-69     25\n",
      "70-79     20\n",
      "80-89      6\n",
      "Name: address_category_relief, dtype: int64\n"
     ]
    }
   ],
   "source": [
    "result2 = (df[df['address_category_relief'].notna()]  # Filter non-empty feature values\n",
    "          .groupby('age')  # Group by the 'feature' column\n",
    "          .apply(lambda x: x.sort_values('address_category_relief').count()))  # Apply sort and count within each group\n",
    "print(result2[\"address_category_relief\"])"
   ]
  },
  {
   "cell_type": "code",
   "execution_count": 50,
   "metadata": {},
   "outputs": [
    {
     "data": {
      "text/plain": [
       "{'20-29': 85,\n",
       " '30-39': 343,\n",
       " '40-49': 195,\n",
       " '50-59': 142,\n",
       " '60-69': 25,\n",
       " '70-79': 20,\n",
       " '80-89': 6}"
      ]
     },
     "execution_count": 50,
     "metadata": {},
     "output_type": "execute_result"
    }
   ],
   "source": [
    "import json\n",
    "json.loads( result2[\"address_category_relief\"].to_json())"
   ]
  },
  {
   "cell_type": "code",
   "execution_count": 51,
   "metadata": {},
   "outputs": [
    {
     "data": {
      "text/plain": [
       "{'20-29': 85,\n",
       " '30-39': 343,\n",
       " '40-49': 195,\n",
       " '50-59': 142,\n",
       " '60-69': 25,\n",
       " '70-79': 20,\n",
       " '80-89': 6}"
      ]
     },
     "execution_count": 51,
     "metadata": {},
     "output_type": "execute_result"
    }
   ],
   "source": [
    "import json\n",
    "json.loads( result2[\"address_category_flat\"].to_json())"
   ]
  },
  {
   "cell_type": "code",
   "execution_count": null,
   "metadata": {},
   "outputs": [],
   "source": [
    "for a, b in df[['first_name', 'second_name']].values:\n",
    "    print(a, b)"
   ]
  },
  {
   "cell_type": "code",
   "execution_count": 5,
   "metadata": {},
   "outputs": [],
   "source": [
    "from src.app.general.service import MainService"
   ]
  },
  {
   "cell_type": "code",
   "execution_count": 4,
   "metadata": {},
   "outputs": [
    {
     "ename": "NameError",
     "evalue": "name 'MainService' is not defined",
     "output_type": "error",
     "traceback": [
      "\u001b[0;31m---------------------------------------------------------------------------\u001b[0m",
      "\u001b[0;31mNameError\u001b[0m                                 Traceback (most recent call last)",
      "Cell \u001b[0;32mIn[4], line 1\u001b[0m\n\u001b[0;32m----> 1\u001b[0m df_new \u001b[38;5;241m=\u001b[39m \u001b[43mMainService\u001b[49m\u001b[38;5;241m.\u001b[39mtransformation(df)\n",
      "\u001b[0;31mNameError\u001b[0m: name 'MainService' is not defined"
     ]
    }
   ],
   "source": [
    "df_new = MainService.transformation(df)"
   ]
  },
  {
   "cell_type": "code",
   "execution_count": null,
   "metadata": {},
   "outputs": [],
   "source": [
    "df[\"name\"] = [ f\"{a} {b}\" for a, b in df[['first_name', 'second_name']].values]"
   ]
  },
  {
   "cell_type": "code",
   "execution_count": null,
   "metadata": {},
   "outputs": [],
   "source": [
    "df.loc[:, ['first_name', 'second_name']] = df[\"name\"].str.split(' ', 1, expand=True)"
   ]
  },
  {
   "cell_type": "code",
   "execution_count": 174,
   "metadata": {},
   "outputs": [
    {
     "data": {
      "text/html": [
       "<div>\n",
       "<style scoped>\n",
       "    .dataframe tbody tr th:only-of-type {\n",
       "        vertical-align: middle;\n",
       "    }\n",
       "\n",
       "    .dataframe tbody tr th {\n",
       "        vertical-align: top;\n",
       "    }\n",
       "\n",
       "    .dataframe thead th {\n",
       "        text-align: right;\n",
       "    }\n",
       "</style>\n",
       "<table border=\"1\" class=\"dataframe\">\n",
       "  <thead>\n",
       "    <tr style=\"text-align: right;\">\n",
       "      <th></th>\n",
       "      <th>age</th>\n",
       "      <th>name</th>\n",
       "      <th>address</th>\n",
       "      <th>job</th>\n",
       "      <th>marital</th>\n",
       "      <th>education</th>\n",
       "      <th>default</th>\n",
       "      <th>balance</th>\n",
       "      <th>housing</th>\n",
       "      <th>loan</th>\n",
       "      <th>contact</th>\n",
       "      <th>day</th>\n",
       "      <th>month</th>\n",
       "      <th>duration</th>\n",
       "      <th>campaign</th>\n",
       "      <th>pdays</th>\n",
       "      <th>previous</th>\n",
       "      <th>poutcome</th>\n",
       "      <th>y</th>\n",
       "    </tr>\n",
       "  </thead>\n",
       "  <tbody>\n",
       "    <tr>\n",
       "      <th>1</th>\n",
       "      <td>33</td>\n",
       "      <td>domenico swift</td>\n",
       "      <td>3887RATKEMEADOWS\\NNORTHLEANNATON,VI94092-4948</td>\n",
       "      <td>services</td>\n",
       "      <td>married</td>\n",
       "      <td>secondary</td>\n",
       "      <td>no</td>\n",
       "      <td>4789</td>\n",
       "      <td>yes</td>\n",
       "      <td>yes</td>\n",
       "      <td>cellular</td>\n",
       "      <td>11</td>\n",
       "      <td>may</td>\n",
       "      <td>220</td>\n",
       "      <td>1</td>\n",
       "      <td>339</td>\n",
       "      <td>4</td>\n",
       "      <td>failure</td>\n",
       "      <td>no</td>\n",
       "    </tr>\n",
       "    <tr>\n",
       "      <th>2</th>\n",
       "      <td>35</td>\n",
       "      <td>talon gulgowski</td>\n",
       "      <td>056 pfannerstill cape st.\\neast marta, nj 21058</td>\n",
       "      <td>management</td>\n",
       "      <td>single</td>\n",
       "      <td>tertiary</td>\n",
       "      <td>no</td>\n",
       "      <td>1350</td>\n",
       "      <td>yes</td>\n",
       "      <td>no</td>\n",
       "      <td>cellular</td>\n",
       "      <td>16</td>\n",
       "      <td>apr</td>\n",
       "      <td>185</td>\n",
       "      <td>1</td>\n",
       "      <td>330</td>\n",
       "      <td>1</td>\n",
       "      <td>failure</td>\n",
       "      <td>no</td>\n",
       "    </tr>\n",
       "    <tr>\n",
       "      <th>5</th>\n",
       "      <td>35</td>\n",
       "      <td>richmond effertz</td>\n",
       "      <td>3547 Treutel Crossing Apt. 567\\nReillytown, AS...</td>\n",
       "      <td>management</td>\n",
       "      <td>single</td>\n",
       "      <td>tertiary</td>\n",
       "      <td>no</td>\n",
       "      <td>747</td>\n",
       "      <td>no</td>\n",
       "      <td>no</td>\n",
       "      <td>cellular</td>\n",
       "      <td>23</td>\n",
       "      <td>feb</td>\n",
       "      <td>141</td>\n",
       "      <td>2</td>\n",
       "      <td>176</td>\n",
       "      <td>3</td>\n",
       "      <td>failure</td>\n",
       "      <td>no</td>\n",
       "    </tr>\n",
       "    <tr>\n",
       "      <th>6</th>\n",
       "      <td>36</td>\n",
       "      <td>lauren mcclure</td>\n",
       "      <td>177CorneliusCampApt.478\\nNikolausbury,AA16457-...</td>\n",
       "      <td>self-employed</td>\n",
       "      <td>married</td>\n",
       "      <td>tertiary</td>\n",
       "      <td>no</td>\n",
       "      <td>307</td>\n",
       "      <td>yes</td>\n",
       "      <td>no</td>\n",
       "      <td>cellular</td>\n",
       "      <td>14</td>\n",
       "      <td>may</td>\n",
       "      <td>341</td>\n",
       "      <td>1</td>\n",
       "      <td>330</td>\n",
       "      <td>2</td>\n",
       "      <td>other</td>\n",
       "      <td>no</td>\n",
       "    </tr>\n",
       "    <tr>\n",
       "      <th>9</th>\n",
       "      <td>43</td>\n",
       "      <td>justina willms</td>\n",
       "      <td>03353CORKERYPRAIRIE\\NWESTLONNIE,AR87918-1164</td>\n",
       "      <td>services</td>\n",
       "      <td>married</td>\n",
       "      <td>primary</td>\n",
       "      <td>no</td>\n",
       "      <td>-88</td>\n",
       "      <td>yes</td>\n",
       "      <td>yes</td>\n",
       "      <td>cellular</td>\n",
       "      <td>17</td>\n",
       "      <td>apr</td>\n",
       "      <td>313</td>\n",
       "      <td>1</td>\n",
       "      <td>147</td>\n",
       "      <td>2</td>\n",
       "      <td>failure</td>\n",
       "      <td>no</td>\n",
       "    </tr>\n",
       "    <tr>\n",
       "      <th>...</th>\n",
       "      <td>...</td>\n",
       "      <td>...</td>\n",
       "      <td>...</td>\n",
       "      <td>...</td>\n",
       "      <td>...</td>\n",
       "      <td>...</td>\n",
       "      <td>...</td>\n",
       "      <td>...</td>\n",
       "      <td>...</td>\n",
       "      <td>...</td>\n",
       "      <td>...</td>\n",
       "      <td>...</td>\n",
       "      <td>...</td>\n",
       "      <td>...</td>\n",
       "      <td>...</td>\n",
       "      <td>...</td>\n",
       "      <td>...</td>\n",
       "      <td>...</td>\n",
       "      <td>...</td>\n",
       "    </tr>\n",
       "    <tr>\n",
       "      <th>4492</th>\n",
       "      <td>32</td>\n",
       "      <td>erna o'connell</td>\n",
       "      <td>7491KILBACKMEADOWAPT.792\\NPAGACMOUTH,AS11081-6594</td>\n",
       "      <td>technician</td>\n",
       "      <td>single</td>\n",
       "      <td>secondary</td>\n",
       "      <td>no</td>\n",
       "      <td>309</td>\n",
       "      <td>yes</td>\n",
       "      <td>yes</td>\n",
       "      <td>cellular</td>\n",
       "      <td>16</td>\n",
       "      <td>apr</td>\n",
       "      <td>346</td>\n",
       "      <td>1</td>\n",
       "      <td>234</td>\n",
       "      <td>3</td>\n",
       "      <td>failure</td>\n",
       "      <td>no</td>\n",
       "    </tr>\n",
       "    <tr>\n",
       "      <th>4504</th>\n",
       "      <td>42</td>\n",
       "      <td>johnson beer</td>\n",
       "      <td>7081 leffler wall ave.\\nkemmerside, dc 00182</td>\n",
       "      <td>blue-collar</td>\n",
       "      <td>single</td>\n",
       "      <td>secondary</td>\n",
       "      <td>no</td>\n",
       "      <td>1080</td>\n",
       "      <td>yes</td>\n",
       "      <td>yes</td>\n",
       "      <td>cellular</td>\n",
       "      <td>13</td>\n",
       "      <td>may</td>\n",
       "      <td>951</td>\n",
       "      <td>3</td>\n",
       "      <td>370</td>\n",
       "      <td>4</td>\n",
       "      <td>failure</td>\n",
       "      <td>yes</td>\n",
       "    </tr>\n",
       "    <tr>\n",
       "      <th>4514</th>\n",
       "      <td>38</td>\n",
       "      <td>maudie wintheiser</td>\n",
       "      <td>25096 William Fi3ld\\nMcCull0ughm0uth, 0R 33380...</td>\n",
       "      <td>blue-collar</td>\n",
       "      <td>married</td>\n",
       "      <td>secondary</td>\n",
       "      <td>no</td>\n",
       "      <td>1205</td>\n",
       "      <td>yes</td>\n",
       "      <td>no</td>\n",
       "      <td>cellular</td>\n",
       "      <td>20</td>\n",
       "      <td>apr</td>\n",
       "      <td>45</td>\n",
       "      <td>4</td>\n",
       "      <td>153</td>\n",
       "      <td>1</td>\n",
       "      <td>failure</td>\n",
       "      <td>no</td>\n",
       "    </tr>\n",
       "    <tr>\n",
       "      <th>4519</th>\n",
       "      <td>28</td>\n",
       "      <td>zachariah sipes</td>\n",
       "      <td>9234 BORER MEADOW AVE.\\NPORT LUNABOROUGH, NJ 3...</td>\n",
       "      <td>blue-collar</td>\n",
       "      <td>married</td>\n",
       "      <td>secondary</td>\n",
       "      <td>no</td>\n",
       "      <td>1137</td>\n",
       "      <td>no</td>\n",
       "      <td>no</td>\n",
       "      <td>cellular</td>\n",
       "      <td>6</td>\n",
       "      <td>feb</td>\n",
       "      <td>129</td>\n",
       "      <td>4</td>\n",
       "      <td>211</td>\n",
       "      <td>3</td>\n",
       "      <td>other</td>\n",
       "      <td>no</td>\n",
       "    </tr>\n",
       "    <tr>\n",
       "      <th>4520</th>\n",
       "      <td>44</td>\n",
       "      <td>julio deckow</td>\n",
       "      <td>2630JenkinsSpringSuite970\\nWestLetha,AR93555</td>\n",
       "      <td>entrepreneur</td>\n",
       "      <td>single</td>\n",
       "      <td>tertiary</td>\n",
       "      <td>no</td>\n",
       "      <td>1136</td>\n",
       "      <td>yes</td>\n",
       "      <td>yes</td>\n",
       "      <td>cellular</td>\n",
       "      <td>3</td>\n",
       "      <td>apr</td>\n",
       "      <td>345</td>\n",
       "      <td>2</td>\n",
       "      <td>249</td>\n",
       "      <td>7</td>\n",
       "      <td>other</td>\n",
       "      <td>no</td>\n",
       "    </tr>\n",
       "  </tbody>\n",
       "</table>\n",
       "<p>816 rows × 19 columns</p>\n",
       "</div>"
      ],
      "text/plain": [
       "      age               name  \\\n",
       "1      33     domenico swift   \n",
       "2      35    talon gulgowski   \n",
       "5      35   richmond effertz   \n",
       "6      36     lauren mcclure   \n",
       "9      43     justina willms   \n",
       "...   ...                ...   \n",
       "4492   32     erna o'connell   \n",
       "4504   42       johnson beer   \n",
       "4514   38  maudie wintheiser   \n",
       "4519   28    zachariah sipes   \n",
       "4520   44       julio deckow   \n",
       "\n",
       "                                                address            job  \\\n",
       "1         3887RATKEMEADOWS\\NNORTHLEANNATON,VI94092-4948       services   \n",
       "2       056 pfannerstill cape st.\\neast marta, nj 21058     management   \n",
       "5     3547 Treutel Crossing Apt. 567\\nReillytown, AS...     management   \n",
       "6     177CorneliusCampApt.478\\nNikolausbury,AA16457-...  self-employed   \n",
       "9          03353CORKERYPRAIRIE\\NWESTLONNIE,AR87918-1164       services   \n",
       "...                                                 ...            ...   \n",
       "4492  7491KILBACKMEADOWAPT.792\\NPAGACMOUTH,AS11081-6594     technician   \n",
       "4504       7081 leffler wall ave.\\nkemmerside, dc 00182    blue-collar   \n",
       "4514  25096 William Fi3ld\\nMcCull0ughm0uth, 0R 33380...    blue-collar   \n",
       "4519  9234 BORER MEADOW AVE.\\NPORT LUNABOROUGH, NJ 3...    blue-collar   \n",
       "4520       2630JenkinsSpringSuite970\\nWestLetha,AR93555   entrepreneur   \n",
       "\n",
       "      marital  education default  balance housing loan   contact  day month  \\\n",
       "1     married  secondary      no     4789     yes  yes  cellular   11   may   \n",
       "2      single   tertiary      no     1350     yes   no  cellular   16   apr   \n",
       "5      single   tertiary      no      747      no   no  cellular   23   feb   \n",
       "6     married   tertiary      no      307     yes   no  cellular   14   may   \n",
       "9     married    primary      no      -88     yes  yes  cellular   17   apr   \n",
       "...       ...        ...     ...      ...     ...  ...       ...  ...   ...   \n",
       "4492   single  secondary      no      309     yes  yes  cellular   16   apr   \n",
       "4504   single  secondary      no     1080     yes  yes  cellular   13   may   \n",
       "4514  married  secondary      no     1205     yes   no  cellular   20   apr   \n",
       "4519  married  secondary      no     1137      no   no  cellular    6   feb   \n",
       "4520   single   tertiary      no     1136     yes  yes  cellular    3   apr   \n",
       "\n",
       "      duration  campaign  pdays  previous poutcome    y  \n",
       "1          220         1    339         4  failure   no  \n",
       "2          185         1    330         1  failure   no  \n",
       "5          141         2    176         3  failure   no  \n",
       "6          341         1    330         2    other   no  \n",
       "9          313         1    147         2  failure   no  \n",
       "...        ...       ...    ...       ...      ...  ...  \n",
       "4492       346         1    234         3  failure   no  \n",
       "4504       951         3    370         4  failure  yes  \n",
       "4514        45         4    153         1  failure   no  \n",
       "4519       129         4    211         3    other   no  \n",
       "4520       345         2    249         7    other   no  \n",
       "\n",
       "[816 rows x 19 columns]"
      ]
     },
     "execution_count": 174,
     "metadata": {},
     "output_type": "execute_result"
    }
   ],
   "source": [
    "df[df[\"pdays\"] != -1]"
   ]
  },
  {
   "cell_type": "code",
   "execution_count": 187,
   "metadata": {},
   "outputs": [
    {
     "data": {
      "text/plain": [
       "Index(['age', 'address', 'job', 'marital', 'education', 'default', 'balance',\n",
       "       'housing', 'loan', 'contact', 'day', 'month', 'duration', 'campaign',\n",
       "       'pdays', 'previous', 'poutcome', 'outcome', 'first_name', 'second_name',\n",
       "       'date'],\n",
       "      dtype='object')"
      ]
     },
     "execution_count": 187,
     "metadata": {},
     "output_type": "execute_result"
    }
   ],
   "source": [
    "df_step2.columns"
   ]
  },
  {
   "cell_type": "code",
   "execution_count": 6,
   "metadata": {},
   "outputs": [
    {
     "name": "stdout",
     "output_type": "stream",
     "text": [
      "step2\n",
      "      age              name  \\\n",
      "0      30  giovanni kessler   \n",
      "1      33    domenico swift   \n",
      "2      35   talon gulgowski   \n",
      "3      30       cayla pagac   \n",
      "4      59         sim ratke   \n",
      "...   ...               ...   \n",
      "4516   33     kenton miller   \n",
      "4517   57      ahmed corwin   \n",
      "4518   57    antwon schaden   \n",
      "4519   28   zachariah sipes   \n",
      "4520   44      julio deckow   \n",
      "\n",
      "                                                address            job  \\\n",
      "0             17864 Grace Field\\nLonzoborough, IN 28057     unemployed   \n",
      "1         3887RATKEMEADOWS\\NNORTHLEANNATON,VI94092-4948       services   \n",
      "2       056 pfannerstill cape st.\\neast marta, nj 21058     management   \n",
      "3        146 gay fort suite 622\\nwest kathryn, la 81781     management   \n",
      "4     779 Hegmann Harbors St.\\nIsaacmouth, MS 13269-...    blue-collar   \n",
      "...                                                 ...            ...   \n",
      "4516  359 Weber Valley Apt. 488\\nZiemannburgh, FL 01748       services   \n",
      "4517         0005CAMILAMANORAVE.\\NRAPHAELLESIDE,MP13556  self-employed   \n",
      "4518       7456HeloiseCliffsSuite296\\nNorthElda,MN60184     technician   \n",
      "4519  9234 BORER MEADOW AVE.\\NPORT LUNABOROUGH, NJ 3...    blue-collar   \n",
      "4520       2630JenkinsSpringSuite970\\nWestLetha,AR93555   entrepreneur   \n",
      "\n",
      "      marital  education default  balance housing loan   contact  day month  \\\n",
      "0     married    primary      no     1787      no   no  cellular   19   oct   \n",
      "1     married  secondary      no     4789     yes  yes  cellular   11   may   \n",
      "2      single   tertiary      no     1350     yes   no  cellular   16   apr   \n",
      "3     married   tertiary      no     1476     yes  yes   unknown    3   jun   \n",
      "4     married  secondary      no        0     yes   no   unknown    5   may   \n",
      "...       ...        ...     ...      ...     ...  ...       ...  ...   ...   \n",
      "4516  married  secondary      no     -333     yes   no  cellular   30   jul   \n",
      "4517  married   tertiary     yes    -3313     yes  yes   unknown    9   may   \n",
      "4518  married  secondary      no      295      no   no  cellular   19   aug   \n",
      "4519  married  secondary      no     1137      no   no  cellular    6   feb   \n",
      "4520   single   tertiary      no     1136     yes  yes  cellular    3   apr   \n",
      "\n",
      "      duration  campaign  pdays  previous poutcome   y  \n",
      "0           79         1     -1         0  unknown  no  \n",
      "1          220         1    339         4  failure  no  \n",
      "2          185         1    330         1  failure  no  \n",
      "3          199         4     -1         0  unknown  no  \n",
      "4          226         1     -1         0  unknown  no  \n",
      "...        ...       ...    ...       ...      ...  ..  \n",
      "4516       329         5     -1         0  unknown  no  \n",
      "4517       153         1     -1         0  unknown  no  \n",
      "4518       151        11     -1         0  unknown  no  \n",
      "4519       129         4    211         3    other  no  \n",
      "4520       345         2    249         7    other  no  \n",
      "\n",
      "[4521 rows x 19 columns]\n",
      "step3...\n"
     ]
    },
    {
     "name": "stderr",
     "output_type": "stream",
     "text": [
      "/home/leonardo/Documents/Dev/EarnestAnalytics/src/app/general/service.py:92: FutureWarning: In a future version of pandas all arguments of StringMethods.split except for the argument 'pat' will be keyword-only.\n",
      "  df[['first_name', 'second_name']] = df[rule2b_col].str.split(' ', 1, expand=True)\n",
      "/home/leonardo/Documents/Dev/EarnestAnalytics/src/app/general/service.py:92: SettingWithCopyWarning: \n",
      "A value is trying to be set on a copy of a slice from a DataFrame.\n",
      "Try using .loc[row_indexer,col_indexer] = value instead\n",
      "\n",
      "See the caveats in the documentation: https://pandas.pydata.org/pandas-docs/stable/user_guide/indexing.html#returning-a-view-versus-a-copy\n",
      "  df[['first_name', 'second_name']] = df[rule2b_col].str.split(' ', 1, expand=True)\n",
      "/home/leonardo/Documents/Dev/EarnestAnalytics/src/app/general/service.py:92: SettingWithCopyWarning: \n",
      "A value is trying to be set on a copy of a slice from a DataFrame.\n",
      "Try using .loc[row_indexer,col_indexer] = value instead\n",
      "\n",
      "See the caveats in the documentation: https://pandas.pydata.org/pandas-docs/stable/user_guide/indexing.html#returning-a-view-versus-a-copy\n",
      "  df[['first_name', 'second_name']] = df[rule2b_col].str.split(' ', 1, expand=True)\n",
      "/home/leonardo/Documents/Dev/EarnestAnalytics/src/app/general/service.py:94: SettingWithCopyWarning: \n",
      "A value is trying to be set on a copy of a slice from a DataFrame\n",
      "\n",
      "See the caveats in the documentation: https://pandas.pydata.org/pandas-docs/stable/user_guide/indexing.html#returning-a-view-versus-a-copy\n",
      "  df.drop(rule2b_col, axis=1, inplace=True)\n",
      "/home/leonardo/Documents/Dev/EarnestAnalytics/src/app/general/service.py:101: SettingWithCopyWarning: \n",
      "A value is trying to be set on a copy of a slice from a DataFrame.\n",
      "Try using .loc[row_indexer,col_indexer] = value instead\n",
      "\n",
      "See the caveats in the documentation: https://pandas.pydata.org/pandas-docs/stable/user_guide/indexing.html#returning-a-view-versus-a-copy\n",
      "  df[rule2c_col] = [ Utils.age_to_bucket(age) for age in df[rule2c_col] ]\n",
      "/home/leonardo/Documents/Dev/EarnestAnalytics/src/app/general/service.py:113: SettingWithCopyWarning: \n",
      "A value is trying to be set on a copy of a slice from a DataFrame.\n",
      "Try using .loc[row_indexer,col_indexer] = value instead\n",
      "\n",
      "See the caveats in the documentation: https://pandas.pydata.org/pandas-docs/stable/user_guide/indexing.html#returning-a-view-versus-a-copy\n",
      "  df[col] = df[col].replace({'yes': True, 'no': False})\n",
      "/home/leonardo/Documents/Dev/EarnestAnalytics/src/app/general/service.py:120: SettingWithCopyWarning: \n",
      "A value is trying to be set on a copy of a slice from a DataFrame.\n",
      "Try using .loc[row_indexer,col_indexer] = value instead\n",
      "\n",
      "See the caveats in the documentation: https://pandas.pydata.org/pandas-docs/stable/user_guide/indexing.html#returning-a-view-versus-a-copy\n",
      "  df['month'] = df['month'].apply(lambda x: month_map.get(x.lower()))\n",
      "/home/leonardo/Documents/Dev/EarnestAnalytics/src/app/general/service.py:121: SettingWithCopyWarning: \n",
      "A value is trying to be set on a copy of a slice from a DataFrame.\n",
      "Try using .loc[row_indexer,col_indexer] = value instead\n",
      "\n",
      "See the caveats in the documentation: https://pandas.pydata.org/pandas-docs/stable/user_guide/indexing.html#returning-a-view-versus-a-copy\n",
      "  df['date'] = df['day'].astype(str) + '/' + df['month']\n",
      "/home/leonardo/Documents/Dev/EarnestAnalytics/src/app/general/service.py:124: SettingWithCopyWarning: \n",
      "A value is trying to be set on a copy of a slice from a DataFrame\n",
      "\n",
      "See the caveats in the documentation: https://pandas.pydata.org/pandas-docs/stable/user_guide/indexing.html#returning-a-view-versus-a-copy\n",
      "  df.rename(columns={'y': 'outcome'}, inplace=True)\n",
      "/home/leonardo/Documents/Dev/EarnestAnalytics/src/app/general/service.py:134: SettingWithCopyWarning: \n",
      "A value is trying to be set on a copy of a slice from a DataFrame.\n",
      "Try using .loc[row_indexer,col_indexer] = value instead\n",
      "\n",
      "See the caveats in the documentation: https://pandas.pydata.org/pandas-docs/stable/user_guide/indexing.html#returning-a-view-versus-a-copy\n",
      "  df[\"address_category_water\"]  = [ Utils.categorize_address(address, \"water\")  for address in df[rule3_col] ]\n",
      "/home/leonardo/Documents/Dev/EarnestAnalytics/src/app/general/service.py:135: SettingWithCopyWarning: \n",
      "A value is trying to be set on a copy of a slice from a DataFrame.\n",
      "Try using .loc[row_indexer,col_indexer] = value instead\n",
      "\n",
      "See the caveats in the documentation: https://pandas.pydata.org/pandas-docs/stable/user_guide/indexing.html#returning-a-view-versus-a-copy\n",
      "  df[\"address_category_relief\"] = [ Utils.categorize_address(address, \"relief\") for address in df[rule3_col] ]\n",
      "/home/leonardo/Documents/Dev/EarnestAnalytics/src/app/general/service.py:136: SettingWithCopyWarning: \n",
      "A value is trying to be set on a copy of a slice from a DataFrame.\n",
      "Try using .loc[row_indexer,col_indexer] = value instead\n",
      "\n",
      "See the caveats in the documentation: https://pandas.pydata.org/pandas-docs/stable/user_guide/indexing.html#returning-a-view-versus-a-copy\n",
      "  df[\"address_category_flat\"]   = [ Utils.categorize_address(address, \"flat\")   for address in df[rule3_col] ]\n"
     ]
    }
   ],
   "source": [
    "df_step2 = MainService.transformation_step2(df)\n",
    "df_step3 = MainService.transformation_step3(df_step2)"
   ]
  },
  {
   "cell_type": "code",
   "execution_count": 168,
   "metadata": {},
   "outputs": [],
   "source": [
    "df_step3.to_parquet(\"src/data/export/test3.parquet\")"
   ]
  },
  {
   "cell_type": "code",
   "execution_count": 11,
   "metadata": {},
   "outputs": [],
   "source": [
    "df_new = pd.read_parquet(\"src/data/export/test2.parquet\")"
   ]
  },
  {
   "cell_type": "code",
   "execution_count": 16,
   "metadata": {},
   "outputs": [
    {
     "data": {
      "text/plain": [
       "'c'"
      ]
     },
     "execution_count": 16,
     "metadata": {},
     "output_type": "execute_result"
    }
   ],
   "source": [
    "s = \"a.b.c\"\n",
    "s.split(\".\")[-1]"
   ]
  },
  {
   "cell_type": "code",
   "execution_count": 15,
   "metadata": {},
   "outputs": [
    {
     "name": "stdout",
     "output_type": "stream",
     "text": [
      "3\n"
     ]
    }
   ],
   "source": [
    "a = [1, 2, 3]\n",
    "print(a[-1])"
   ]
  },
  {
   "cell_type": "code",
   "execution_count": 13,
   "metadata": {},
   "outputs": [
    {
     "name": "stdout",
     "output_type": "stream",
     "text": [
      "Index(['age', 'address', 'job', 'marital', 'education', 'default', 'balance',\n",
      "       'housing', 'loan', 'contact', 'day', 'month', 'duration', 'campaign',\n",
      "       'pdays', 'previous', 'poutcome', 'outcome', 'first_name', 'second_name',\n",
      "       'date', 'address_category_water', 'address_category_relief',\n",
      "       'address_category_flat'],\n",
      "      dtype='object')\n"
     ]
    }
   ],
   "source": [
    "print(df_new.columns)"
   ]
  },
  {
   "cell_type": "code",
   "execution_count": 8,
   "metadata": {},
   "outputs": [],
   "source": [
    "df_step2.to_parquet(\"src/data/export/test2.parquet\")"
   ]
  },
  {
   "cell_type": "code",
   "execution_count": 9,
   "metadata": {},
   "outputs": [],
   "source": [
    "df_new = pd.read_parquet(\"src/data/export/test2.parquet\")"
   ]
  },
  {
   "cell_type": "code",
   "execution_count": 10,
   "metadata": {},
   "outputs": [
    {
     "name": "stdout",
     "output_type": "stream",
     "text": [
      "         age                                            address  \\\n",
      "index                                                             \n",
      "1      30-39      3887RATKEMEADOWS\\NNORTHLEANNATON,VI94092-4948   \n",
      "2      30-39    056 pfannerstill cape st.\\neast marta, nj 21058   \n",
      "5      30-39  3547 Treutel Crossing Apt. 567\\nReillytown, AS...   \n",
      "6      30-39  177CorneliusCampApt.478\\nNikolausbury,AA16457-...   \n",
      "9      40-49       03353CORKERYPRAIRIE\\NWESTLONNIE,AR87918-1164   \n",
      "...      ...                                                ...   \n",
      "4492   30-39  7491KILBACKMEADOWAPT.792\\NPAGACMOUTH,AS11081-6594   \n",
      "4504   40-49       7081 leffler wall ave.\\nkemmerside, dc 00182   \n",
      "4514   30-39  25096 William Fi3ld\\nMcCull0ughm0uth, 0R 33380...   \n",
      "4519   20-29  9234 BORER MEADOW AVE.\\NPORT LUNABOROUGH, NJ 3...   \n",
      "4520   40-49       2630JenkinsSpringSuite970\\nWestLetha,AR93555   \n",
      "\n",
      "                 job  marital  education  default  balance  housing   loan  \\\n",
      "index                                                                        \n",
      "1           services  married  secondary    False     4789     True   True   \n",
      "2         management   single   tertiary    False     1350     True  False   \n",
      "5         management   single   tertiary    False      747    False  False   \n",
      "6      self-employed  married   tertiary    False      307     True  False   \n",
      "9           services  married    primary    False      -88     True   True   \n",
      "...              ...      ...        ...      ...      ...      ...    ...   \n",
      "4492      technician   single  secondary    False      309     True   True   \n",
      "4504     blue-collar   single  secondary    False     1080     True   True   \n",
      "4514     blue-collar  married  secondary    False     1205     True  False   \n",
      "4519     blue-collar  married  secondary    False     1137    False  False   \n",
      "4520    entrepreneur   single   tertiary    False     1136     True   True   \n",
      "\n",
      "        contact  ...  pdays previous  poutcome  outcome  first_name  \\\n",
      "index            ...                                                  \n",
      "1      cellular  ...    339        4   failure    False    domenico   \n",
      "2      cellular  ...    330        1   failure    False       talon   \n",
      "5      cellular  ...    176        3   failure    False    richmond   \n",
      "6      cellular  ...    330        2     other    False      lauren   \n",
      "9      cellular  ...    147        2   failure    False     justina   \n",
      "...         ...  ...    ...      ...       ...      ...         ...   \n",
      "4492   cellular  ...    234        3   failure    False        erna   \n",
      "4504   cellular  ...    370        4   failure     True     johnson   \n",
      "4514   cellular  ...    153        1   failure    False      maudie   \n",
      "4519   cellular  ...    211        3     other    False   zachariah   \n",
      "4520   cellular  ...    249        7     other    False       julio   \n",
      "\n",
      "       second_name   date  address_category_water address_category_relief  \\\n",
      "index                                                                       \n",
      "1            swift  11/05                   False                   False   \n",
      "2        gulgowski  16/04                   False                   False   \n",
      "5          effertz  23/02                   False                   False   \n",
      "6          mcclure  14/05                   False                   False   \n",
      "9           willms  17/04                   False                   False   \n",
      "...            ...    ...                     ...                     ...   \n",
      "4492     o'connell  16/04                   False                   False   \n",
      "4504          beer  13/05                   False                   False   \n",
      "4514    wintheiser  20/04                   False                   False   \n",
      "4519         sipes   6/02                   False                   False   \n",
      "4520        deckow   3/04                    True                   False   \n",
      "\n",
      "      address_category_flat  \n",
      "index                        \n",
      "1                     False  \n",
      "2                     False  \n",
      "5                     False  \n",
      "6                     False  \n",
      "9                     False  \n",
      "...                     ...  \n",
      "4492                  False  \n",
      "4504                  False  \n",
      "4514                  False  \n",
      "4519                  False  \n",
      "4520                  False  \n",
      "\n",
      "[816 rows x 24 columns]\n"
     ]
    }
   ],
   "source": [
    "print(df_new)"
   ]
  },
  {
   "cell_type": "code",
   "execution_count": 33,
   "metadata": {},
   "outputs": [],
   "source": [
    "\n",
    "from enum import Enum\n",
    "\n",
    "class GroupByType(str, Enum):\n",
    "    water = 'address_category_water'\n",
    "    relief = 'address_category_relief'\n",
    "    flat = 'address_category_flat'"
   ]
  },
  {
   "cell_type": "code",
   "execution_count": 43,
   "metadata": {},
   "outputs": [
    {
     "data": {
      "text/plain": [
       "'address_category_water'"
      ]
     },
     "execution_count": 43,
     "metadata": {},
     "output_type": "execute_result"
    }
   ],
   "source": [
    "GroupByType.water[:]"
   ]
  }
 ],
 "metadata": {
  "kernelspec": {
   "display_name": "Python 3",
   "language": "python",
   "name": "python3"
  },
  "language_info": {
   "codemirror_mode": {
    "name": "ipython",
    "version": 3
   },
   "file_extension": ".py",
   "mimetype": "text/x-python",
   "name": "python",
   "nbconvert_exporter": "python",
   "pygments_lexer": "ipython3",
   "version": "3.11.6"
  }
 },
 "nbformat": 4,
 "nbformat_minor": 2
}
